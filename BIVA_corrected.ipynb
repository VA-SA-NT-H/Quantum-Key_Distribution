{
 "cells": [
  {
   "cell_type": "code",
   "execution_count": 3,
   "id": "f553c369",
   "metadata": {},
   "outputs": [],
   "source": [
    "import numpy as np\n",
    "import random\n",
    "from qiskit import QuantumCircuit, transpile\n",
    "from qiskit_aer import AerSimulator"
   ]
  },
  {
   "cell_type": "code",
   "execution_count": 4,
   "id": "4ede4b00",
   "metadata": {},
   "outputs": [],
   "source": [
    "alice_angles = [0, np.pi/4, np.pi/2]\n",
    "bob_angles = [np.pi/4, np.pi/2, 3*np.pi/4]\n",
    "simulator = AerSimulator()"
   ]
  },
  {
   "cell_type": "code",
   "execution_count": 5,
   "id": "00d66d3d",
   "metadata": {},
   "outputs": [],
   "source": [
    "def create_bell_pair():\n",
    "    qc = QuantumCircuit(2, 2)\n",
    "    qc.h(0)\n",
    "    qc.cx(0, 1)\n",
    "    return qc"
   ]
  },
  {
   "cell_type": "code",
   "execution_count": 6,
   "id": "df9b506c",
   "metadata": {},
   "outputs": [],
   "source": [
    "def measure_in_basis(qc, qubit, angle):\n",
    "    qc.ry(-2 * angle, qubit)\n",
    "    qc.measure(qubit, qubit)"
   ]
  },
  {
   "cell_type": "code",
   "execution_count": 7,
   "id": "0723876c",
   "metadata": {},
   "outputs": [],
   "source": [
    "def e91_simulation(n):\n",
    "    data = []\n",
    "    for _ in range(n):\n",
    "        qc = create_bell_pair()\n",
    "\n",
    "        a_idx = random.randint(0, 2)\n",
    "        b_idx = random.randint(0, 2)\n",
    "        a_angle = alice_angles[a_idx]\n",
    "        b_angle = bob_angles[b_idx]\n",
    "\n",
    "        measure_in_basis(qc, 0, a_angle)\n",
    "        measure_in_basis(qc, 1, b_angle)\n",
    "\n",
    "        tqc = transpile(qc, simulator)\n",
    "        result = simulator.run(tqc, shots=1).result()\n",
    "        counts = result.get_counts()\n",
    "        outcome = list(counts.keys())[0]\n",
    "\n",
    "        data.append({\n",
    "            \"alice_angle_idx\": a_idx,\n",
    "            \"bob_angle_idx\": b_idx,\n",
    "            \"outcome\": outcome\n",
    "        })\n",
    "    return data"
   ]
  },
  {
   "cell_type": "code",
   "execution_count": 8,
   "id": "0bc35b5f",
   "metadata": {},
   "outputs": [],
   "source": [
    "def calculate_chsh(data):\n",
    "    counts = {(0, 0): [], (0, 1): [], (1, 0): [], (1, 1): []}\n",
    "    for d in data:\n",
    "        a, b = d[\"alice_angle_idx\"], d[\"bob_angle_idx\"]\n",
    "        if (a, b) in counts:\n",
    "            outcome = d[\"outcome\"]\n",
    "            counts[(a, b)].append(1 if outcome in ['00', '11'] else -1)\n",
    "    def mean(l): return sum(l)/len(l) if l else 0\n",
    "    E = {key: mean(vals) for key, vals in counts.items()}\n",
    "    S = abs(E[(0, 0)] - E[(0, 1)] + E[(1, 0)] + E[(1, 1)])\n",
    "    return S"
   ]
  },
  {
   "cell_type": "code",
   "execution_count": 9,
   "id": "a3c6b33e",
   "metadata": {},
   "outputs": [],
   "source": [
    "def calculate_qber(data):\n",
    "    mismatch = total = matched_bits = 0\n",
    "    for d in data:\n",
    "        if d[\"outcome\"] in ['00', '11']:\n",
    "            matched_bits += 1\n",
    "        total += 1\n",
    "        if d[\"outcome\"] not in ['00', '11']:\n",
    "            mismatch += 1\n",
    "    qber = mismatch / total if total else 0\n",
    "    return qber, matched_bits"
   ]
  },
  {
   "cell_type": "code",
   "execution_count": 10,
   "id": "a3a2ef4c",
   "metadata": {},
   "outputs": [],
   "source": [
    "def calculate_key_rate(qber, total_rounds, matched_bits):\n",
    "    R0 = matched_bits / total_rounds\n",
    "    return R0 * (1 - 2 * qber)"
   ]
  },
  {
   "cell_type": "code",
   "execution_count": 11,
   "id": "381c1062",
   "metadata": {},
   "outputs": [],
   "source": [
    "def final_key(data):\n",
    "    secret_key = ''\n",
    "    for d in data:\n",
    "        if d[\"outcome\"] == '00':\n",
    "            secret_key += '0'\n",
    "        elif d[\"outcome\"] == '11':\n",
    "            secret_key += '1'\n",
    "    return secret_key"
   ]
  },
  {
   "cell_type": "code",
   "execution_count": 12,
   "id": "394db31c",
   "metadata": {},
   "outputs": [],
   "source": [
    "try:\n",
    "    import matplotlib\n",
    "    import matplotlib.pyplot as plt\n",
    "    interactive = matplotlib.get_backend().lower() not in ['agg', 'template']\n",
    "except Exception:\n",
    "    plt = None\n",
    "    interactive = False\n",
    "\n",
    "def plot_chsh(data):\n",
    "    if plt is None:\n",
    "        raise ModuleNotFoundError(\"matplotlib is not installed.\")\n",
    "    S = calculate_chsh(data)\n",
    "    plt.axhline(y=2, color='r', linestyle='--', label='Classical Limit')\n",
    "    plt.bar([\"CHSH\"], [S], color='green')\n",
    "    plt.title(\"CHSH Violation\")\n",
    "    plt.ylim(0, 4)\n",
    "    plt.legend()\n",
    "    if interactive:\n",
    "        plt.show()\n",
    "    else:\n",
    "        print(\"⚠️ Matplotlib backend is non-interactive.\")\n",
    "\n",
    "def plot_qber(qber):\n",
    "    if plt is None:\n",
    "        raise ModuleNotFoundError(\"matplotlib is not installed.\")\n",
    "    plt.bar([\"QBER\"], [qber * 100], color='orange')\n",
    "    plt.title(\"Quantum Bit Error Rate (%)\")\n",
    "    plt.ylim(0, 100)\n",
    "    if interactive:\n",
    "        plt.show()\n",
    "    else:\n",
    "        print(\"⚠️ Plot not shown.\")\n",
    "\n",
    "def plot_key_rate(rate):\n",
    "    if plt is None:\n",
    "        raise ModuleNotFoundError(\"matplotlib is not installed.\")\n",
    "    plt.bar([\"Key Rate\"], [rate], color='blue')\n",
    "    plt.title(\"Final Usable Key Rate\")\n",
    "    plt.ylim(0, 1)\n",
    "    if interactive:\n",
    "        plt.show()\n",
    "    else:\n",
    "        print(\"⚠️ Plot not shown.\")"
   ]
  },
  {
   "cell_type": "code",
   "execution_count": null,
   "id": "c0e15dce",
   "metadata": {},
   "outputs": [
    {
     "name": "stdin",
     "output_type": "stream",
     "text": [
      "Enter number of rounds (default 1000):  100\n"
     ]
    }
   ],
   "source": [
    "rounds = int(input(\"Enter number of rounds (default 1000): \") or 1000)\n",
    "results = e91_simulation(rounds)\n",
    "qber, matched_bits = calculate_qber(results)\n",
    "chsh = calculate_chsh(results)\n",
    "key_rate = calculate_key_rate(qber, rounds, matched_bits)\n",
    "secret_key = final_key(results)\n",
    "\n",
    "print(f\"Secret key: {secret_key}\")\n",
    "print(f\"CHSH ( 2 < S >= 2.828): {chsh:.3f}\")\n",
    "print(f\"QBER ( QBER < 11% ): {qber*100:.2f}%\")\n",
    "print(f\"Key Rate: {key_rate:.4f}\")\n",
    "\n",
    "plot_chsh(results)\n",
    "plot_qber(qber)\n",
    "plot_key_rate(key_rate)"
   ]
  },
  {
   "cell_type": "code",
   "execution_count": null,
   "id": "f0b51518-a3a8-45cf-a177-b2f6f9e6fa88",
   "metadata": {},
   "outputs": [],
   "source": []
  }
 ],
 "metadata": {
  "kernelspec": {
   "display_name": "Python (venv_qiskit2)",
   "language": "python",
   "name": "venv_qiskit2"
  },
  "language_info": {
   "codemirror_mode": {
    "name": "ipython",
    "version": 3
   },
   "file_extension": ".py",
   "mimetype": "text/x-python",
   "name": "python",
   "nbconvert_exporter": "python",
   "pygments_lexer": "ipython3",
   "version": "3.11.13"
  }
 },
 "nbformat": 4,
 "nbformat_minor": 5
}
