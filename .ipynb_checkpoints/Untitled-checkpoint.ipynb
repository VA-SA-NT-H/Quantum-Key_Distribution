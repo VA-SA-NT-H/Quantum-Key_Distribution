{
 "cells": [
  {
   "cell_type": "code",
   "execution_count": 6,
   "id": "69724139-86f3-433c-a014-a18488f41124",
   "metadata": {},
   "outputs": [],
   "source": [
    "import numpy as np\n",
    "import random\n",
    "from qiskit import QuantumCircuit, transpile\n",
    "from qiskit_aer import AerSimulator"
   ]
  },
  {
   "cell_type": "code",
   "execution_count": 7,
   "id": "999fc8b4-0a61-4516-8b6a-56d8eff755cf",
   "metadata": {},
   "outputs": [],
   "source": [
    "alice_angles = [0, np.pi/4, np.pi/2]\n",
    "bob_angles = [np.pi/4, np.pi/2, 3*np.pi/4]\n",
    "simulator = AerSimulator()"
   ]
  },
  {
   "cell_type": "code",
   "execution_count": 8,
   "id": "f12e2275-97b6-41d2-af21-fb5ea98bb18a",
   "metadata": {},
   "outputs": [],
   "source": [
    "def create_bell_pair():\n",
    "        qc = QuantumCircuit(2, 2)\n",
    "        qc.h(0)\n",
    "        qc.cx(0, 1)\n",
    "        return qc    "
   ]
  },
  {
   "cell_type": "code",
   "execution_count": 9,
   "id": "cc85d5c9-9874-48fb-8d61-af754221d655",
   "metadata": {},
   "outputs": [],
   "source": [
    "def measure_in_basis(qc, qubit, angle):\n",
    "        qc.ry(-2 * angle, qubit)\n",
    "        qc.measure(qubit, qubit)"
   ]
  },
  {
   "cell_type": "code",
   "execution_count": 10,
   "id": "d3f599f2-e4b2-4713-96d9-db910774c6c7",
   "metadata": {},
   "outputs": [],
   "source": [
    "def run_e91_simulation(n):\n",
    "        data = []\n",
    "        for _ in range(n):\n",
    "            qc = create_bell_pair()\n",
    "    \n",
    "            a_idx = random.randint(0, 2)\n",
    "            b_idx = random.randint(0, 2)\n",
    "            a_angle = alice_angles[a_idx]\n",
    "            b_angle = bob_angles[b_idx]\n",
    "    \n",
    "            measure_in_basis(qc, 0, a_angle)\n",
    "            measure_in_basis(qc, 1, b_angle)\n",
    "    \n",
    "            tqc = transpile(qc, simulator)\n",
    "            result = simulator.run(tqc, shots=1).result()\n",
    "            counts = result.get_counts()\n",
    "            outcome = list(counts.keys())[0]\n",
    "    \n",
    "            data.append({\n",
    "                \"alice_angle_idx\": a_idx,\n",
    "                \"bob_angle_idx\": b_idx,\n",
    "                \"outcome\": outcome\n",
    "            })\n",
    "        return data"
   ]
  },
  {
   "cell_type": "code",
   "execution_count": 11,
   "id": "5db36f01-b99e-40ad-a990-2f6b62eb29b7",
   "metadata": {},
   "outputs": [],
   "source": [
    "def calculate_chsh(data):\n",
    "        counts = {(0, 0): [], (0, 1): [], (1, 0): [], (1, 1): []}\n",
    "    \n",
    "        for d in data:\n",
    "            a, b = d[\"alice_angle_idx\"], d[\"bob_angle_idx\"]\n",
    "            if (a, b) in counts:\n",
    "                outcome = d[\"outcome\"]\n",
    "                if outcome == '00' or outcome == '11':\n",
    "                    counts[(a, b)].append(1)\n",
    "                else:\n",
    "                    counts[(a, b)].append(-1)\n",
    "\n",
    "        def mean(l): return sum(l)/len(l) if l else 0\n",
    "        E = {key: mean(vals) for key, vals in counts.items()}\n",
    "    \n",
    "        S = abs(E[(0, 0)] - E[(0, 1)] + E[(1, 0)] + E[(1, 1)])\n",
    "        return S"
   ]
  },
  {
   "cell_type": "code",
   "execution_count": 12,
   "id": "49d8d643-3eff-41f2-bf60-7ba6a7812b64",
   "metadata": {},
   "outputs": [],
   "source": [
    "def calculate_qber(data, matched_bits):\n",
    "        mismatch = total = 0\n",
    "        for d in data:\n",
    "            # a, b = d[\"alice_angle_idx\"], d[\"bob_angle_idx\"]\n",
    "            if d[\"outcome\"] in ['00','11']:\n",
    "                matched_bits += 1\n",
    "            # if a == b:\n",
    "            total += 1\n",
    "            if d[\"outcome\"] not in ['00', '11']:\n",
    "                mismatch += 1\n",
    "                \n",
    "        return mismatch / total if total > 0 else 0"
   ]
  },
  {
   "cell_type": "code",
   "execution_count": 13,
   "id": "ca7af497-84f2-4a0f-8f1d-b3832fe7929c",
   "metadata": {},
   "outputs": [],
   "source": [
    "def calculate_key_rate(data, qber, total_rounds, matched_bits):\n",
    "        # R0 = 0.5  # Raw key rate\n",
    "        #valid_key_bits = [r for r in data if r['used_for_key'] == True]\n",
    "        # R0 = len(valid_key_bits) / total_rounds\n",
    "        R0 = matched_bits / total_rounds\n",
    "    \n",
    "        return R0 * (1 - 2 * qber)"
   ]
  },
  {
   "cell_type": "code",
   "execution_count": 14,
   "id": "af4dc7d8-274d-431f-a6b1-b21f3fbb09b5",
   "metadata": {},
   "outputs": [],
   "source": [
    "def final_key(data):\n",
    "        secret_key = ''\n",
    "        omitted_key = ''\n",
    "        for d in data:\n",
    "            secret_key += '0' if d[\"outcome\"] == '00' else '1'\n",
    "        return secret_key"
   ]
  },
  {
   "cell_type": "code",
   "execution_count": 15,
   "id": "f00d48f7-9c53-46a3-bc3f-26288927b026",
   "metadata": {},
   "outputs": [],
   "source": [
    "try:\n",
    "    import matplotlib\n",
    "    import matplotlib.pyplot as plt\n",
    "    interactive = matplotlib.get_backend().lower() not in ['agg', 'template']\n",
    "except Exception:\n",
    "    plt = None\n",
    "    interactive = False\n",
    "\n",
    "\n",
    "def plot_chsh(data):\n",
    "    if plt is None:\n",
    "        raise ModuleNotFoundError(\"matplotlib is not installed.\")\n",
    "    S = calculate_chsh(data)\n",
    "    plt.axhline(y=2, color='r', linestyle='--', label='Classical Limit')\n",
    "    plt.bar([\"CHSH\"], [S], color='green')\n",
    "    plt.title(\"CHSH Violation\")\n",
    "    plt.ylim(0, 4)\n",
    "    plt.legend()\n",
    "    if interactive:\n",
    "        plt.show()\n",
    "    else:\n",
    "        print(\"⚠️ Matplotlib backend is non-interactive. Cannot display plot.\")\n",
    "\n",
    "\n",
    "def plot_qber(data):\n",
    "    if plt is None:\n",
    "        raise ModuleNotFoundError(\"matplotlib is not installed.\")\n",
    "    qber = calculate_qber(data, matched_bits)\n",
    "    plt.bar([\"QBER\"], [qber * 100], color='orange')\n",
    "    plt.title(\"Quantum Bit Error Rate (%)\")\n",
    "    plt.ylim(0, 100)\n",
    "    if interactive:\n",
    "        plt.show()\n",
    "    else:\n",
    "        print(\"⚠️ Plot not shown (non-interactive backend or headless mode).\")\n",
    "\n",
    "\n",
    "def plot_key_rate(rate):\n",
    "    if plt is None:\n",
    "        raise ModuleNotFoundError(\"matplotlib is not installed.\")\n",
    "    plt.bar([\"Key Rate\"], [rate], color='blue')\n",
    "    plt.title(\"Final Usable Key Rate\")\n",
    "    plt.ylim(0, 1)\n",
    "    if interactive:\n",
    "        plt.show()\n",
    "    else:\n",
    "        print(\"⚠️ Plot not shown (non-interactive backend or headless mode).\")\n",
    "\n"
   ]
  },
  {
   "cell_type": "code",
   "execution_count": 18,
   "id": "c7f2a5c4-acc7-48b8-8b2a-3e0156e25961",
   "metadata": {},
   "outputs": [
    {
     "name": "stdin",
     "output_type": "stream",
     "text": [
      "Enter number of rounds (default 1000):  10\n"
     ]
    },
    {
     "name": "stdout",
     "output_type": "stream",
     "text": [
      "Final secret key : 0111101011\n",
      "\n",
      "✅ CHSH Value: 2.000 (Expected > 2)\n",
      "✅ QBER: 40.00%\n",
      "✅ Final Key Rate: 0.000\n",
      "\n"
     ]
    },
    {
     "data": {
      "image/png": "[encoded data removed]",
      "text/plain": [
       "<Figure size 640x480 with 1 Axes>"
      ]
     },
     "metadata": {},
     "output_type": "display_data"
    },
    {
     "name": "stdout",
     "output_type": "stream",
     "text": [
      "❌ Visualization error: calculate_qber() missing 1 required positional argument: 'matched_bits'\n"
     ]
    }
   ],
   "source": [
    "if __name__ == \"__main__\":\n",
    "    rounds = int(input(\"Enter number of rounds (default 1000): \") or 1000)\n",
    "\n",
    "    \n",
    "    \n",
    "    results = run_e91_simulation(rounds)\n",
    "    #print(results)\n",
    "    matched_bits = 0\n",
    "\n",
    "    \n",
    "        \n",
    "    chsh_value = calculate_chsh(results)\n",
    "    qber = calculate_qber(results, matched_bits)\n",
    "    key_rate = calculate_key_rate(results, qber, rounds, matched_bits)\n",
    "    secret_key = final_key(results)\n",
    "    \n",
    "    print(f\"Final secret key : {secret_key}\")\n",
    "    print(f\"\\n✅ CHSH Value: {chsh_value:.3f} (Expected > 2)\")\n",
    "    print(f\"✅ QBER: {qber * 100:.2f}%\")\n",
    "    print(f\"✅ Final Key Rate: {key_rate:.3f}\\n\")\n",
    "    \n",
    "           \n",
    "    try:\n",
    "        plot_chsh(results)\n",
    "        plot_qber(results)\n",
    "        plot_key_rate(key_rate)\n",
    "    except ModuleNotFoundError:\n",
    "        print(\"❌ Visualization skipped: matplotlib is not installed.\")\n",
    "        print(\"To enable visualizations, run: pip install matplotlib\")\n",
    "    except Exception as e:\n",
    "        print(f\"❌ Visualization error: {e}\")"
   ]
  },
  {
   "cell_type": "code",
   "execution_count": null,
   "id": "c7846b4f-31b3-4544-8471-ffd9e3967659",
   "metadata": {},
   "outputs": [],
   "source": []
  },
  {
   "cell_type": "code",
   "execution_count": null,
   "id": "76f2c0c2-663f-4225-8e2b-bcc1f43deeec",
   "metadata": {},
   "outputs": [],
   "source": []
  }
 ],
 "metadata": {
  "kernelspec": {
   "display_name": "Python (venv_qiskit2)",
   "language": "python",
   "name": "venv_qiskit2"
  },
  "language_info": {
   "codemirror_mode": {
    "name": "ipython",
    "version": 3
   },
   "file_extension": ".py",
   "mimetype": "text/x-python",
   "name": "python",
   "nbconvert_exporter": "python",
   "pygments_lexer": "ipython3",
   "version": "3.11.13"
  }
 },
 "nbformat": 4,
 "nbformat_minor": 5
}
